{
 "cells": [
  {
   "cell_type": "code",
   "execution_count": 8,
   "metadata": {},
   "outputs": [],
   "source": [
    "import numpy as np\n",
    "import csv\n",
    "import pandas\n",
    "import os\n",
    "\n"
   ]
  },
  {
   "cell_type": "code",
   "execution_count": 9,
   "metadata": {},
   "outputs": [
    {
     "name": "stdout",
     "output_type": "stream",
     "text": [
      "['00:be:75:db:92', '00:be:75:09:d7', '00:be:75:d5:21', '00:be:75:c9:6e', '00:be:75:d0:e2', '00:be:75:dd:6d', '00:be:75:09:dd', '00:be:75:dd:72', '00:be:75:d0:d8', '00:be:75:d5:25', '00:be:75:d5:24', '6c:b2:ae:2d:40', '00:be:75:d5:2c', '00:be:75:dd:74', '00:be:75:d5:33', '00:be:75:dd:75', '00:be:75:d8:79', '00:be:75:d8:74', '00:be:75:d5:1c', '00:be:75:d8:7c', '00:be:75:db:a5', '00:be:75:dd:67', '00:be:75:d0:dc', '00:be:75:d0:e0', '00:be:75:d8:67', '00:be:75:db:95', '00:be:75:d0:d1', '00:be:75:d5:1d', '00:be:75:d5:31', '00:be:75:d0:ce', '00:be:75:d5:2e', '00:be:75:d5:30', '00:be:75:d5:2c', '00:be:75:09:dc', '00:be:75:d5:2c', '00:be:75:d5:1c', '00:be:75:d5:33', '00:be:75:d0:e4', '00:be:75:d8:7d', '00:be:75:d5:25', '00:be:75:db:a4', '00:be:75:db:a7', '00:be:75:d5:32', '00:be:75:d8:7f', '00:be:75:d0:e1', '00:be:75:db:9b', '00:be:75:d5:28', '00:be:75:09:da', '00:be:75:db:a0', '00:be:75:db:a4', '00:be:75:dd:71', '00:be:75:d8:74', '00:be:75:d0:d6', '00:be:75:c9:75', '6c:b2:ae:2d:40', '00:be:75:d5:1f', '00:be:75:dd:70', '00:be:75:dd:71', '00:be:75:db:a4', '00:be:75:d8:7f', '00:be:75:d0:d0', '00:be:75:dd:64', '00:be:75:d8:6d', '00:be:75:d0:d4', '00:be:75:dd:75', '00:be:75:dd:71', '00:be:75:d0:e5', '00:be:75:db:a3', '00:be:75:dd:72', '00:be:75:db:90', '00:be:75:d0:e8', '00:be:75:db:9f', '00:be:75:db:94', '00:be:75:d5:30', '6c:b2:ae:2d:40', '00:be:75:80:b3', '00:be:75:80:c9', '00:be:75:d8:79', '00:be:75:80:b3', '00:be:75:80:af', '00:be:75:80:b5', '00:be:75:80:b7', '00:be:75:80:b0', '00:be:75:80:b4', '00:be:75:76:98', '00:be:75:80:b2', '00:be:75:dd:64', '00:be:75:d0:cd', '00:be:75:d0:e1', '00:be:75:d0:e4', '00:be:75:d0:e5', '00:be:75:db:a0', '00:be:75:d0:dc', '00:be:75:09:d7', '00:be:75:d5:2e', '00:be:75:db:9e', '00:be:75:dd:6c', '00:be:75:09:dc', '00:be:75:d8:78', '00:be:75:dd:6e', '00:be:75:d5:2']\n"
     ]
    }
   ],
   "source": [
    "'''\n",
    "read in NTUH AP list and cut the final three characters\n",
    "e.g '00:be:75:db:92:40 -> '00:be:75:db:92'\n",
    "'''\n",
    "BSSID_list = []\n",
    "with open(\"./BSSID.txt\",'r') as f:\n",
    "    lines = f.readlines()\n",
    "    for line in lines:\n",
    "        BSSID_list.append(line[:-4])\n",
    "print(BSSID_list)\n",
    "        \n",
    "\n"
   ]
  },
  {
   "cell_type": "code",
   "execution_count": 10,
   "metadata": {},
   "outputs": [
    {
     "name": "stdout",
     "output_type": "stream",
     "text": [
      "the folder contains position count = 27\n",
      "the folder contains position count = 27\n",
      "the folder contains position count = 27\n",
      "the folder contains position count = 27\n"
     ]
    }
   ],
   "source": [
    "'''\n",
    "preprocess raw dataset into fingerprint.txt\n",
    "args: path list\n",
    "output:Fingerprint.txt\n",
    "'''\n",
    "#for preprocessing raw training datasets\n",
    "#path_list = [\"./Data/Train2/\", \"./Data/Train3/\", \"./Data/Train4/\", \"./Data/Train5/\"]\n",
    "folder = \"./Data/NTUH_0722/\"\n",
    "path_list = [folder+\"Train1/\", folder+\"Train2/\", folder+\"Train3/\", folder+\"Train4/\"]\n",
    "fd = open(\"./Fingerprint.txt\", 'w')\n",
    "#total_count = 0\n",
    "\n",
    "for path in path_list:\n",
    "    count = 0\n",
    "    for file in sorted(os.listdir(path)):\n",
    "        pos = file.strip('.txt')\n",
    "        print(f\"Position,{pos}\", file = fd)\n",
    "        count += 1\n",
    "        with open(path+file,'r') as f:\n",
    "            lines = f.readlines()[1:]\n",
    "            d = dict()\n",
    "            \n",
    "            for line in lines:\n",
    "                line = line.split('|')\n",
    "                BSSID = line[2][:-3]\n",
    "                #print(BSSID)\n",
    "                if BSSID not in BSSID_list:\n",
    "                    continue\n",
    "                RSSI = float(line[3].strip(\"dBm\"))\n",
    "                if BSSID not in d:\n",
    "                    d[BSSID] = [RSSI]\n",
    "                else:\n",
    "                    d[BSSID].append(RSSI)\n",
    "                    \n",
    "            for BSSID in d.keys():\n",
    "                avg_RSSI = int(sum(d[BSSID]) / len(d[BSSID]))\n",
    "                print(f\"{BSSID},{avg_RSSI}\",file = fd)\n",
    "    print(f\"the folder contains position count = {count}\")\n",
    "#print(f\"total positions = {total_count}\")\n",
    "fd.close()    "
   ]
  },
  {
   "cell_type": "code",
   "execution_count": 11,
   "metadata": {},
   "outputs": [],
   "source": [
    "def save_fingerprint(dir_path, training_wifi_pos, testing_wifi_pos):\n",
    "    print('='*50)\n",
    "    print(dir_path)\n",
    "    print('training wifi pos shape', training_wifi_pos.shape)\n",
    "    print('testing wifi pos shape', testing_wifi_pos.shape)\n",
    "\n",
    "    training_wifi_pos_path = os.path.join(dir_path, 'training_wifi_pos.npy') \n",
    "    testing_wifi_pos_path = os.path.join(dir_path, 'testing_wifi_pos.npy') \n",
    "\n",
    "    np.save(training_wifi_pos_path, training_wifi_pos)\n",
    "    np.save(testing_wifi_pos_path, testing_wifi_pos)"
   ]
  },
  {
   "cell_type": "code",
   "execution_count": 12,
   "metadata": {},
   "outputs": [],
   "source": [
    "#for preprocessing Fingerprint.txt to training & testing data\n",
    "def NTUH_2F():\n",
    "    fingerprint_file_path = \"./Fingerprint.txt\"\n",
    "    \n",
    "    bssid_index = {}\n",
    "    training_wifi_pos = []\n",
    "    testing_wifi_pos = []\n",
    "\n",
    "    with open(fingerprint_file_path, 'r') as f:\n",
    "        position_index = []\n",
    "        index = 0\n",
    "        lines = f.read().splitlines()\n",
    "        for i in range(len(lines)):\n",
    "            elements = lines[i].split(',')\n",
    "            if elements[0] == 'Position':\n",
    "                position_index.append(i)\n",
    "            else:\n",
    "                bssid, rssi = elements\n",
    "                if bssid not in bssid_index:\n",
    "                    bssid_index[bssid] = index\n",
    "                    index += 1\n",
    "        \n",
    "        total_APs = len(bssid_index)\n",
    "        print(f\"total ap = {total_APs}\")\n",
    "        testing_set = set()\n",
    "        \n",
    "        for p_idx in position_index:\n",
    "            fingerprint = np.full(total_APs+2, -100, dtype=np.float64)\n",
    "            _, x, y = lines[p_idx].split(',')\n",
    "            #pos = (eval(x)/100, eval(y)/100)\n",
    "            pos = (eval(x), eval(y))\n",
    "            fingerprint[-2:] = pos\n",
    "\n",
    "            p_idx += 1\n",
    "            elements = lines[p_idx].split(',')\n",
    "            while len(elements) == 2:\n",
    "                bssid, rssi = elements\n",
    "                bssid, rssi = bssid_index[bssid], eval(rssi)\n",
    "                fingerprint[bssid] = rssi\n",
    "                p_idx += 1\n",
    "                if p_idx == len(lines): \n",
    "                    break\n",
    "                elements = lines[p_idx].split(',')\n",
    "\n",
    "            if pos not in testing_set:\n",
    "                testing_set.add(pos)\n",
    "                testing_wifi_pos.append(fingerprint)\n",
    "            else:\n",
    "                training_wifi_pos.append(fingerprint)\n",
    "        #print(len(training_wifi_pos))\n",
    "        #print((testing_wifi_pos))\n",
    "        training_wifi_pos = np.array(training_wifi_pos, dtype=np.float64)\n",
    "        testing_wifi_pos = np.array(testing_wifi_pos, dtype=np.float64)\n",
    "        save_fingerprint(\"./Dataset/NTUH_2F\", training_wifi_pos, testing_wifi_pos)"
   ]
  },
  {
   "cell_type": "code",
   "execution_count": 13,
   "metadata": {},
   "outputs": [
    {
     "name": "stdout",
     "output_type": "stream",
     "text": [
      "total ap = 28\n",
      "==================================================\n",
      "./Dataset/NTUH_2F\n",
      "training wifi pos shape (81, 30)\n",
      "testing wifi pos shape (27, 30)\n"
     ]
    }
   ],
   "source": [
    "NTUH_2F()"
   ]
  },
  {
   "cell_type": "code",
   "execution_count": 14,
   "metadata": {},
   "outputs": [
    {
     "ename": "RuntimeError",
     "evalue": "No active exception to reraise",
     "output_type": "error",
     "traceback": [
      "\u001b[0;31m---------------------------------------------------------------------------\u001b[0m",
      "\u001b[0;31mRuntimeError\u001b[0m                              Traceback (most recent call last)",
      "\u001b[1;32m/home/wayne/Documents/Wifi_RSSI/Preprocess.ipynb Cell 7'\u001b[0m in \u001b[0;36m<cell line: 3>\u001b[0;34m()\u001b[0m\n\u001b[1;32m      <a href='vscode-notebook-cell://ssh-remote%2Bcml0.csie.ntu.edu.tw/home/wayne/Documents/Wifi_RSSI/Preprocess.ipynb#ch0000006vscode-remote?line=0'>1</a>\u001b[0m \u001b[39m#####\u001b[39;00m\n\u001b[1;32m      <a href='vscode-notebook-cell://ssh-remote%2Bcml0.csie.ntu.edu.tw/home/wayne/Documents/Wifi_RSSI/Preprocess.ipynb#ch0000006vscode-remote?line=1'>2</a>\u001b[0m \u001b[39m#below is just for testing no need to execute\u001b[39;00m\n\u001b[0;32m----> <a href='vscode-notebook-cell://ssh-remote%2Bcml0.csie.ntu.edu.tw/home/wayne/Documents/Wifi_RSSI/Preprocess.ipynb#ch0000006vscode-remote?line=2'>3</a>\u001b[0m \u001b[39mraise\u001b[39;00m\n",
      "\u001b[0;31mRuntimeError\u001b[0m: No active exception to reraise"
     ]
    }
   ],
   "source": [
    "#####\n",
    "#below is just for testing no need to execute\n",
    "raise"
   ]
  },
  {
   "cell_type": "code",
   "execution_count": null,
   "metadata": {},
   "outputs": [],
   "source": [
    "\n",
    "def testing():\n",
    "    fingerprint_file_path = \"./Fingerprint2.txt\"\n",
    "    \n",
    "    bssid_index = {}\n",
    "    training_wifi_pos = []\n",
    "    testing_wifi_pos = []\n",
    "\n",
    "    with open(fingerprint_file_path, 'r') as f:\n",
    "        position_index = []\n",
    "        index = 0\n",
    "        lines = f.read().splitlines()\n",
    "        for i in range(len(lines)):\n",
    "            elements = lines[i].split(',')\n",
    "            if elements[0] == 'Position':\n",
    "                position_index.append(i)\n",
    "            else:\n",
    "                bssid, rssi = elements\n",
    "                if bssid not in bssid_index:\n",
    "                    bssid_index[bssid] = index\n",
    "                    index += 1\n",
    "        \n",
    "        total_APs = len(bssid_index)\n",
    "        print(f\"total ap = {total_APs}\")\n",
    "        testing_set = set()\n",
    "        \n",
    "        for p_idx in position_index:\n",
    "            fingerprint = np.full(total_APs+2, -100, dtype=np.float64)\n",
    "            _, x, y = lines[p_idx].split(',')\n",
    "            #pos = (eval(x)/100, eval(y)/100)\n",
    "            pos = (eval(x), eval(y))\n",
    "            fingerprint[-2:] = pos\n",
    "\n",
    "            p_idx += 1\n",
    "            elements = lines[p_idx].split(',')\n",
    "            while len(elements) == 2:\n",
    "                bssid, rssi = elements\n",
    "                bssid, rssi = bssid_index[bssid], eval(rssi)\n",
    "                fingerprint[bssid] = rssi\n",
    "                p_idx += 1\n",
    "                if p_idx == len(lines): \n",
    "                    break\n",
    "                elements = lines[p_idx].split(',')\n",
    "\n",
    "            if pos not in testing_set:\n",
    "                testing_set.add(pos)\n",
    "                testing_wifi_pos.append(fingerprint)\n",
    "                \n",
    "            else:\n",
    "                training_wifi_pos.append(fingerprint)\n",
    "            print(testing_wifi_pos)"
   ]
  },
  {
   "cell_type": "code",
   "execution_count": null,
   "metadata": {},
   "outputs": [
    {
     "name": "stdout",
     "output_type": "stream",
     "text": [
      "215\n",
      "178\n",
      "9\n"
     ]
    }
   ],
   "source": [
    "path1 = \"./Data/Train2/-1,14.txt\"\n",
    "path2 = \"./Data/Train4/-1,14.txt\"\n",
    "l1 = []\n",
    "l2 = []\n",
    "with open(path1,'r') as f1:\n",
    "    lines = f1.readlines()[1:]\n",
    "    for line in lines:\n",
    "        line = line.split('|')\n",
    "        SSID = line[1]\n",
    "        if SSID not in ap_list:\n",
    "            continue\n",
    "        BSSID = line[2]\n",
    "        RSSI = line[3].strip(\"dBm\")\n",
    "        l1.append(SSID+','+BSSID)\n",
    "\n",
    "with open(path2,'r') as f2:\n",
    "    lines = f2.readlines()[1:]\n",
    "    for line in lines:\n",
    "        line = line.split('|')\n",
    "        SSID = line[1]\n",
    "        if SSID not in ap_list:\n",
    "            continue\n",
    "        BSSID = line[2]\n",
    "        RSSI = line[3].strip(\"dBm\")\n",
    "        l2.append(SSID+','+BSSID)\n",
    "#print(l1)\n",
    "#print(l2)\n",
    "\n",
    "count = 0\n",
    "for x in l1:\n",
    "    if x in l2:\n",
    "        count += 1\n",
    "print(len(l1))\n",
    "print(len(l2))\n",
    "print(count)\n",
    "        "
   ]
  }
 ],
 "metadata": {
  "interpreter": {
   "hash": "e6ddf36f5b06b2d1dffbdce440328aa987a3baf133dab91692508e7a923335d3"
  },
  "kernelspec": {
   "display_name": "Python 3.9.7 ('base')",
   "language": "python",
   "name": "python3"
  },
  "language_info": {
   "codemirror_mode": {
    "name": "ipython",
    "version": 3
   },
   "file_extension": ".py",
   "mimetype": "text/x-python",
   "name": "python",
   "nbconvert_exporter": "python",
   "pygments_lexer": "ipython3",
   "version": "3.9.7"
  },
  "orig_nbformat": 4,
  "vscode": {
   "interpreter": {
    "hash": "e6ddf36f5b06b2d1dffbdce440328aa987a3baf133dab91692508e7a923335d3"
   }
  }
 },
 "nbformat": 4,
 "nbformat_minor": 2
}
